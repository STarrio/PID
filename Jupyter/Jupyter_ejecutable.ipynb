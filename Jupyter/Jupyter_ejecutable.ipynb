{
 "cells": [
  {
   "cell_type": "markdown",
   "metadata": {},
   "source": [
    "Fichero Jupyter que ejecuta el algoritmo para las 3 imagenes.\n",
    "\n"
   ]
  },
  {
   "cell_type": "markdown",
   "metadata": {},
   "source": [
    "ADVERTENCIA: Para que este notebook funcione, deben estar todas las dependencias py en la misma carpeta que este notebook. Además, la imagen con la que se quiere trabajar debe estar en la misma carpeta que este notebook. Por ultimo, se debe usar Windows.\n",
    "\n",
    "Insertar aqui el nombre de la imagen con el formato (.png, .jpg) al que se quiere aplicar el algoritmo y ejecutar dicha celda. Posteriormente, ejecute la siguiente celda."
   ]
  },
  {
   "cell_type": "code",
   "execution_count": 5,
   "metadata": {
    "collapsed": false
   },
   "outputs": [],
   "source": [
    "nombre_imagen = \"krapfen.jpg\"\n",
    "tamano_celda = 19"
   ]
  },
  {
   "cell_type": "markdown",
   "metadata": {},
   "source": [
    "Ejecutar la siguiente celda de código, una vez ejecute la superior antes:"
   ]
  },
  {
   "cell_type": "code",
   "execution_count": 6,
   "metadata": {
    "collapsed": false
   },
   "outputs": [
    {
     "ename": "FileNotFoundError",
     "evalue": "[Errno 2] No such file or directory: 'krapfen.jpg'",
     "output_type": "error",
     "traceback": [
      "\u001b[0;31m---------------------------------------------------------------------------\u001b[0m",
      "\u001b[0;31mFileNotFoundError\u001b[0m                         Traceback (most recent call last)",
      "\u001b[0;32m<ipython-input-6-5eacf737bdc9>\u001b[0m in \u001b[0;36m<module>\u001b[0;34m()\u001b[0m\n\u001b[1;32m     26\u001b[0m \u001b[1;33m\u001b[0m\u001b[0m\n\u001b[1;32m     27\u001b[0m \u001b[0mGAUSSIAN_KERNELS\u001b[0m \u001b[1;33m=\u001b[0m \u001b[1;33m[\u001b[0m\u001b[1;36m1\u001b[0m\u001b[1;33m,\u001b[0m \u001b[1;36m3\u001b[0m\u001b[1;33m,\u001b[0m \u001b[1;36m5\u001b[0m\u001b[1;33m]\u001b[0m\u001b[1;33m\u001b[0m\u001b[0m\n\u001b[0;32m---> 28\u001b[0;31m \u001b[0mRGB1\u001b[0m \u001b[1;33m=\u001b[0m \u001b[0mPIL\u001b[0m\u001b[1;33m.\u001b[0m\u001b[0mImage\u001b[0m\u001b[1;33m.\u001b[0m\u001b[0mopen\u001b[0m\u001b[1;33m(\u001b[0m\u001b[0mnombre_imagen\u001b[0m\u001b[1;33m)\u001b[0m\u001b[1;33m\u001b[0m\u001b[0m\n\u001b[0m\u001b[1;32m     29\u001b[0m \u001b[0mRGB2\u001b[0m \u001b[1;33m=\u001b[0m \u001b[0mPIL\u001b[0m\u001b[1;33m.\u001b[0m\u001b[0mImage\u001b[0m\u001b[1;33m.\u001b[0m\u001b[0mopen\u001b[0m\u001b[1;33m(\u001b[0m\u001b[0mnombre_imagen\u001b[0m\u001b[1;33m)\u001b[0m\u001b[1;33m\u001b[0m\u001b[0m\n\u001b[1;32m     30\u001b[0m \u001b[0mRGB3\u001b[0m \u001b[1;33m=\u001b[0m \u001b[0mPIL\u001b[0m\u001b[1;33m.\u001b[0m\u001b[0mImage\u001b[0m\u001b[1;33m.\u001b[0m\u001b[0mopen\u001b[0m\u001b[1;33m(\u001b[0m\u001b[0mnombre_imagen\u001b[0m\u001b[1;33m)\u001b[0m\u001b[1;33m\u001b[0m\u001b[0m\n",
      "\u001b[0;32mC:\\Users\\ANGEL\\Anaconda3\\lib\\site-packages\\PIL\\Image.py\u001b[0m in \u001b[0;36mopen\u001b[0;34m(fp, mode)\u001b[0m\n\u001b[1;32m   2278\u001b[0m             \u001b[0mfilename\u001b[0m \u001b[1;33m=\u001b[0m \u001b[0mstr\u001b[0m\u001b[1;33m(\u001b[0m\u001b[0mfp\u001b[0m\u001b[1;33m.\u001b[0m\u001b[0mresolve\u001b[0m\u001b[1;33m(\u001b[0m\u001b[1;33m)\u001b[0m\u001b[1;33m)\u001b[0m\u001b[1;33m\u001b[0m\u001b[0m\n\u001b[1;32m   2279\u001b[0m     \u001b[1;32mif\u001b[0m \u001b[0mfilename\u001b[0m\u001b[1;33m:\u001b[0m\u001b[1;33m\u001b[0m\u001b[0m\n\u001b[0;32m-> 2280\u001b[0;31m         \u001b[0mfp\u001b[0m \u001b[1;33m=\u001b[0m \u001b[0mbuiltins\u001b[0m\u001b[1;33m.\u001b[0m\u001b[0mopen\u001b[0m\u001b[1;33m(\u001b[0m\u001b[0mfilename\u001b[0m\u001b[1;33m,\u001b[0m \u001b[1;34m\"rb\"\u001b[0m\u001b[1;33m)\u001b[0m\u001b[1;33m\u001b[0m\u001b[0m\n\u001b[0m\u001b[1;32m   2281\u001b[0m \u001b[1;33m\u001b[0m\u001b[0m\n\u001b[1;32m   2282\u001b[0m     \u001b[1;32mtry\u001b[0m\u001b[1;33m:\u001b[0m\u001b[1;33m\u001b[0m\u001b[0m\n",
      "\u001b[0;31mFileNotFoundError\u001b[0m: [Errno 2] No such file or directory: 'krapfen.jpg'"
     ]
    }
   ],
   "source": [
    "\n",
    "\n",
    "\n",
    "import mean_shift_epanechnikov as ms\n",
    "import bokeh\n",
    "import superpixel\n",
    "import PIL\n",
    "from PIL import Image, ImageFilter\n",
    "from skimage import io, color\n",
    "import numpy as np\n",
    "import random\n",
    "import energy_generation\n",
    "import foreground_estimation\n",
    "import grid_utils as grid\n",
    "\n",
    "import os\n",
    "script_dir = os.path.dirname(\"bokeh.py\")\n",
    "directorio_metadatos = os.path.join(script_dir, 'metadatos/')\n",
    "directorio_resultados = os.path.join(script_dir, 'resultados/')\n",
    "\n",
    "if not os.path.isdir(directorio_resultados):\n",
    "    os.makedirs(directorio_resultados)\n",
    "    \n",
    "if not os.path.isdir(directorio_metadatos):\n",
    "    os.makedirs(directorio_metadatos)\n",
    "\n",
    "GAUSSIAN_KERNELS = [1, 3, 5]\n",
    "RGB1 = PIL.Image.open(nombre_imagen)\n",
    "RGB2 = PIL.Image.open(nombre_imagen)\n",
    "RGB3 = PIL.Image.open(nombre_imagen)\n",
    "\n",
    "RGB1 = RGB1.filter(ImageFilter.GaussianBlur(GAUSSIAN_KERNELS[0]))\n",
    "RGB2 = RGB2.filter(ImageFilter.GaussianBlur(GAUSSIAN_KERNELS[1]))\n",
    "RGB3 = RGB3.filter(ImageFilter.GaussianBlur(GAUSSIAN_KERNELS[2]))\n",
    "\n",
    "io.imsave(directorio_metadatos+\"imagen_sigma1.png\",RGB1)\n",
    "io.imsave(directorio_metadatos+\"imagen_sigma3.png\",RGB2)\n",
    "io.imsave(directorio_metadatos+\"imagen_sigma5.png\",RGB3)\n",
    "\n",
    "\n",
    "thumbnailsigma1 = grid.thumbnail(directorio_metadatos+\"imagen_sigma1.png\",(200,200))\n",
    "thumbnailsigma3 = grid.thumbnail(directorio_metadatos+\"imagen_sigma3.png\",(200,200))\n",
    "thumbnailsigma5 = grid.thumbnail(directorio_metadatos+\"imagen_sigma5.png\",(200,200))\n",
    "\n",
    "RGB1 = np.array(io.imread(thumbnailsigma1))\n",
    "RGB2 = np.array(io.imread(thumbnailsigma3))\n",
    "RGB3 = np.array(io.imread(thumbnailsigma5))\n",
    "\n",
    "LISTA_PUNTOSRGB1 = grid.puntos_interseccion(RGB1, tamano_celda)\n",
    "LISTA_PUNTOSRGB2 = grid.puntos_interseccion(RGB2, tamano_celda)\n",
    "LISTA_PUNTOSRGB3 = grid.puntos_interseccion(RGB3, tamano_celda)\n",
    "\n",
    "\n",
    "mean_shifterRGB1 = ms.MeanShift(kernel = 'epanechnikov_kernel')\n",
    "mean_shifterRGB2 = ms.MeanShift(kernel = 'epanechnikov_kernel')\n",
    "mean_shifterRGB3 = ms.MeanShift(kernel = 'epanechnikov_kernel')\n",
    "\n",
    "\n",
    "mean_shift_resultRGB1 = mean_shifterRGB1.cluster(LISTA_PUNTOSRGB1,50, kernel_bandwidth = [100,255])\n",
    "mean_shift_resultRGB2 = mean_shifterRGB2.cluster(LISTA_PUNTOSRGB2,50, kernel_bandwidth = [100,255])\n",
    "mean_shift_resultRGB3 = mean_shifterRGB3.cluster(LISTA_PUNTOSRGB3,50, kernel_bandwidth = [100,255])\n",
    "\n",
    "\n",
    "x_y_cRGB1 = foreground_estimation.cambia_formato(mean_shift_resultRGB1)\n",
    "x_y_cRGB2 = foreground_estimation.cambia_formato(mean_shift_resultRGB2)\n",
    "x_y_cRGB3 = foreground_estimation.cambia_formato(mean_shift_resultRGB3)\n",
    "\n",
    "fe_estimatorRGB1 = foreground_estimation.foreground_estimation(x_y_cRGB1)\n",
    "fe_estimatorRGB2 = foreground_estimation.foreground_estimation(x_y_cRGB2)\n",
    "fe_estimatorRGB3 = foreground_estimation.foreground_estimation(x_y_cRGB3)\n",
    "\n",
    "\n",
    "\n",
    "puntos_clasificadosRGB1 = fe_estimatorRGB1.classify_points()\n",
    "puntos_clasificadosRGB2 = fe_estimatorRGB2.classify_points()\n",
    "puntos_clasificadosRGB3 = fe_estimatorRGB3.classify_points()\n",
    "\n",
    "\n",
    "egRGB1 = energy_generation.energy_generation(puntos_clasificadosRGB1,np.shape(RGB1),tamano_celda,nombre_salida=directorio_metadatos+\"transformacion_distanciaRGB1.png\",nombre_grid_interseccion_figura=directorio_metadatos+\"grid_interseccion_figuraRGB1.png\",nombre_morfologia=directorio_metadatos+\"morfologiaRGB1.png\")\n",
    "egRGB2 = energy_generation.energy_generation(puntos_clasificadosRGB2,np.shape(RGB2),tamano_celda,nombre_salida=directorio_metadatos+\"transformacion_distanciaRGB2.png\",nombre_grid_interseccion_figura=directorio_metadatos+\"grid_interseccion_figuraRGB2.png\",nombre_morfologia=directorio_metadatos+\"morfologiaRGB2.png\")\n",
    "egRGB3 = energy_generation.energy_generation(puntos_clasificadosRGB3,np.shape(RGB3),tamano_celda,nombre_salida=directorio_metadatos+\"transformacion_distanciaRGB3.png\",nombre_grid_interseccion_figura=directorio_metadatos+\"grid_interseccion_figuraRGB3.png\",nombre_morfologia=directorio_metadatos+\"morfologiaRGB3.png\")\n",
    "\n",
    "\n",
    "profundidadRGB1 = egRGB1.hacer_saliency_map()\n",
    "profundidadRGB2 = egRGB2.hacer_saliency_map()\n",
    "profundidadRGB3 = egRGB3.hacer_saliency_map()\n",
    "\n",
    "profundidad_unificada = energy_generation.unificar_eg(profundidadRGB1,profundidadRGB2,profundidadRGB3,directorio_metadatos)\n",
    "\n",
    "s = superpixel.superpixel(nombre_thumbnail=thumbnailsigma1,profundidad=profundidad_unificada,nombre_salida=directorio_metadatos+\"superpixel_unificado.png\")\n",
    "s.hacer_superpixel()\n",
    "\n",
    "d = bokeh.bokeh(nombre_imagen,thumbnailsigma1,directorio_metadatos+\"superpixel_unificado.png\",directorio_metadatos,directorio_resultados)\n",
    "d.difuminacion_gaussiana_fondo()\n",
    "\n",
    "print(\"¡TERMINADO!\")\n",
    "\n"
   ]
  },
  {
   "cell_type": "code",
   "execution_count": null,
   "metadata": {
    "collapsed": true
   },
   "outputs": [],
   "source": []
  }
 ],
 "metadata": {
  "anaconda-cloud": {},
  "kernelspec": {
   "display_name": "Python [default]",
   "language": "python",
   "name": "python3"
  },
  "language_info": {
   "codemirror_mode": {
    "name": "ipython",
    "version": 3
   },
   "file_extension": ".py",
   "mimetype": "text/x-python",
   "name": "python",
   "nbconvert_exporter": "python",
   "pygments_lexer": "ipython3",
   "version": "3.5.2"
  }
 },
 "nbformat": 4,
 "nbformat_minor": 1
}
